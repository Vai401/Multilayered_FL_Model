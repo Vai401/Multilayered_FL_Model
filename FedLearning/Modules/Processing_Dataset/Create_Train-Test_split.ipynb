{
  "cells": [
    {
      "cell_type": "markdown",
      "metadata": {
        "id": "BMIqGWyqOBNV"
      },
      "source": [
        "**Creating train-test split**"
      ]
    },
    {
      "cell_type": "code",
      "execution_count": 5,
      "metadata": {
        "colab": {
          "base_uri": "https://localhost:8080/"
        },
        "id": "GJy6odrcH08g",
        "outputId": "6ac7d6c5-f8e9-4b6e-cd98-1af5bb665d17"
      },
      "outputs": [
        {
          "name": "stdout",
          "output_type": "stream",
          "text": [
            "[INFO] processed 10000/42000\n",
            "[INFO] processed 20000/42000\n",
            "[INFO] processed 30000/42000\n",
            "[INFO] processed 40000/42000\n"
          ]
        }
      ],
      "source": [
        "#declear path to your mnist data folder\n",
        "img_path = '/content/trainingSet'\n",
        "\n",
        "#get the path list using the path object\n",
        "image_paths = list(paths.list_images(img_path))\n",
        "\n",
        "#apply our function\n",
        "image_list, label_list = load(image_paths, verbose=10000)\n",
        "\n",
        "#binarize the labels\n",
        "lb = LabelBinarizer()\n",
        "label_list = lb.fit_transform(label_list)\n",
        "\n",
        "#split data into training and test set\n",
        "X_train, X_test, y_train, y_test = train_test_split(image_list,\n",
        "                                                    label_list,\n",
        "                                                    test_size=0.1,\n",
        "                                                    random_state=42)"
      ]
    }
  ],
  "metadata": {
    "colab": {
      "provenance": []
    },
    "kernelspec": {
      "display_name": "Python 3",
      "name": "python3"
    },
    "language_info": {
      "codemirror_mode": {
        "name": "ipython",
        "version": 3
      },
      "file_extension": ".py",
      "mimetype": "text/x-python",
      "name": "python",
      "nbconvert_exporter": "python",
      "pygments_lexer": "ipython3",
      "version": "3.11.4"
    }
  },
  "nbformat": 4,
  "nbformat_minor": 0
}
